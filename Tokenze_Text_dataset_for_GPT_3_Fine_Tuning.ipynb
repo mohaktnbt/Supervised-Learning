{
  "nbformat": 4,
  "nbformat_minor": 0,
  "metadata": {
    "colab": {
      "name": "Tokenze Text dataset for GPT-3- Fine Tuning.ipynb",
      "provenance": [],
      "collapsed_sections": [],
      "include_colab_link": true
    },
    "kernelspec": {
      "name": "python3",
      "display_name": "Python 3"
    },
    "language_info": {
      "name": "python"
    },
    "widgets": {
      "application/vnd.jupyter.widget-state+json": {
        "36ab9bcd55c8416e9559cda587601d3a": {
          "model_module": "@jupyter-widgets/controls",
          "model_name": "HBoxModel",
          "model_module_version": "1.5.0",
          "state": {
            "_view_name": "HBoxView",
            "_dom_classes": [],
            "_model_name": "HBoxModel",
            "_view_module": "@jupyter-widgets/controls",
            "_model_module_version": "1.5.0",
            "_view_count": null,
            "_view_module_version": "1.5.0",
            "box_style": "",
            "layout": "IPY_MODEL_c5e822d965484d5c83eee2b75d145488",
            "_model_module": "@jupyter-widgets/controls",
            "children": [
              "IPY_MODEL_88db0f91647c407fa410a405b6c05225",
              "IPY_MODEL_77baa04751bc407b85cc093c0833c26e"
            ]
          }
        },
        "c5e822d965484d5c83eee2b75d145488": {
          "model_module": "@jupyter-widgets/base",
          "model_name": "LayoutModel",
          "model_module_version": "1.2.0",
          "state": {
            "_view_name": "LayoutView",
            "grid_template_rows": null,
            "right": null,
            "justify_content": null,
            "_view_module": "@jupyter-widgets/base",
            "overflow": null,
            "_model_module_version": "1.2.0",
            "_view_count": null,
            "flex_flow": null,
            "width": null,
            "min_width": null,
            "border": null,
            "align_items": null,
            "bottom": null,
            "_model_module": "@jupyter-widgets/base",
            "top": null,
            "grid_column": null,
            "overflow_y": null,
            "overflow_x": null,
            "grid_auto_flow": null,
            "grid_area": null,
            "grid_template_columns": null,
            "flex": null,
            "_model_name": "LayoutModel",
            "justify_items": null,
            "grid_row": null,
            "max_height": null,
            "align_content": null,
            "visibility": null,
            "align_self": null,
            "height": null,
            "min_height": null,
            "padding": null,
            "grid_auto_rows": null,
            "grid_gap": null,
            "max_width": null,
            "order": null,
            "_view_module_version": "1.2.0",
            "grid_template_areas": null,
            "object_position": null,
            "object_fit": null,
            "grid_auto_columns": null,
            "margin": null,
            "display": null,
            "left": null
          }
        },
        "88db0f91647c407fa410a405b6c05225": {
          "model_module": "@jupyter-widgets/controls",
          "model_name": "FloatProgressModel",
          "model_module_version": "1.5.0",
          "state": {
            "_view_name": "ProgressView",
            "style": "IPY_MODEL_dee5a99f921147068c81788c2735ad5f",
            "_dom_classes": [],
            "description": "Downloading: 100%",
            "_model_name": "FloatProgressModel",
            "bar_style": "success",
            "max": 1042301,
            "_view_module": "@jupyter-widgets/controls",
            "_model_module_version": "1.5.0",
            "value": 1042301,
            "_view_count": null,
            "_view_module_version": "1.5.0",
            "orientation": "horizontal",
            "min": 0,
            "description_tooltip": null,
            "_model_module": "@jupyter-widgets/controls",
            "layout": "IPY_MODEL_e0f7c41d06ab41ac8657e7656ea16983"
          }
        },
        "77baa04751bc407b85cc093c0833c26e": {
          "model_module": "@jupyter-widgets/controls",
          "model_name": "HTMLModel",
          "model_module_version": "1.5.0",
          "state": {
            "_view_name": "HTMLView",
            "style": "IPY_MODEL_91be7396942d45e6bdba44d87d1f66d2",
            "_dom_classes": [],
            "description": "",
            "_model_name": "HTMLModel",
            "placeholder": "​",
            "_view_module": "@jupyter-widgets/controls",
            "_model_module_version": "1.5.0",
            "value": " 1.04M/1.04M [00:01&lt;00:00, 653kB/s]",
            "_view_count": null,
            "_view_module_version": "1.5.0",
            "description_tooltip": null,
            "_model_module": "@jupyter-widgets/controls",
            "layout": "IPY_MODEL_649b28614fb74feb912a66fef8be2693"
          }
        },
        "dee5a99f921147068c81788c2735ad5f": {
          "model_module": "@jupyter-widgets/controls",
          "model_name": "ProgressStyleModel",
          "model_module_version": "1.5.0",
          "state": {
            "_view_name": "StyleView",
            "_model_name": "ProgressStyleModel",
            "description_width": "initial",
            "_view_module": "@jupyter-widgets/base",
            "_model_module_version": "1.5.0",
            "_view_count": null,
            "_view_module_version": "1.2.0",
            "bar_color": null,
            "_model_module": "@jupyter-widgets/controls"
          }
        },
        "e0f7c41d06ab41ac8657e7656ea16983": {
          "model_module": "@jupyter-widgets/base",
          "model_name": "LayoutModel",
          "model_module_version": "1.2.0",
          "state": {
            "_view_name": "LayoutView",
            "grid_template_rows": null,
            "right": null,
            "justify_content": null,
            "_view_module": "@jupyter-widgets/base",
            "overflow": null,
            "_model_module_version": "1.2.0",
            "_view_count": null,
            "flex_flow": null,
            "width": null,
            "min_width": null,
            "border": null,
            "align_items": null,
            "bottom": null,
            "_model_module": "@jupyter-widgets/base",
            "top": null,
            "grid_column": null,
            "overflow_y": null,
            "overflow_x": null,
            "grid_auto_flow": null,
            "grid_area": null,
            "grid_template_columns": null,
            "flex": null,
            "_model_name": "LayoutModel",
            "justify_items": null,
            "grid_row": null,
            "max_height": null,
            "align_content": null,
            "visibility": null,
            "align_self": null,
            "height": null,
            "min_height": null,
            "padding": null,
            "grid_auto_rows": null,
            "grid_gap": null,
            "max_width": null,
            "order": null,
            "_view_module_version": "1.2.0",
            "grid_template_areas": null,
            "object_position": null,
            "object_fit": null,
            "grid_auto_columns": null,
            "margin": null,
            "display": null,
            "left": null
          }
        },
        "91be7396942d45e6bdba44d87d1f66d2": {
          "model_module": "@jupyter-widgets/controls",
          "model_name": "DescriptionStyleModel",
          "model_module_version": "1.5.0",
          "state": {
            "_view_name": "StyleView",
            "_model_name": "DescriptionStyleModel",
            "description_width": "",
            "_view_module": "@jupyter-widgets/base",
            "_model_module_version": "1.5.0",
            "_view_count": null,
            "_view_module_version": "1.2.0",
            "_model_module": "@jupyter-widgets/controls"
          }
        },
        "649b28614fb74feb912a66fef8be2693": {
          "model_module": "@jupyter-widgets/base",
          "model_name": "LayoutModel",
          "model_module_version": "1.2.0",
          "state": {
            "_view_name": "LayoutView",
            "grid_template_rows": null,
            "right": null,
            "justify_content": null,
            "_view_module": "@jupyter-widgets/base",
            "overflow": null,
            "_model_module_version": "1.2.0",
            "_view_count": null,
            "flex_flow": null,
            "width": null,
            "min_width": null,
            "border": null,
            "align_items": null,
            "bottom": null,
            "_model_module": "@jupyter-widgets/base",
            "top": null,
            "grid_column": null,
            "overflow_y": null,
            "overflow_x": null,
            "grid_auto_flow": null,
            "grid_area": null,
            "grid_template_columns": null,
            "flex": null,
            "_model_name": "LayoutModel",
            "justify_items": null,
            "grid_row": null,
            "max_height": null,
            "align_content": null,
            "visibility": null,
            "align_self": null,
            "height": null,
            "min_height": null,
            "padding": null,
            "grid_auto_rows": null,
            "grid_gap": null,
            "max_width": null,
            "order": null,
            "_view_module_version": "1.2.0",
            "grid_template_areas": null,
            "object_position": null,
            "object_fit": null,
            "grid_auto_columns": null,
            "margin": null,
            "display": null,
            "left": null
          }
        },
        "1b1508e1b9db499e9b504d2885976104": {
          "model_module": "@jupyter-widgets/controls",
          "model_name": "HBoxModel",
          "model_module_version": "1.5.0",
          "state": {
            "_view_name": "HBoxView",
            "_dom_classes": [],
            "_model_name": "HBoxModel",
            "_view_module": "@jupyter-widgets/controls",
            "_model_module_version": "1.5.0",
            "_view_count": null,
            "_view_module_version": "1.5.0",
            "box_style": "",
            "layout": "IPY_MODEL_2415f152617347b686e7744466336078",
            "_model_module": "@jupyter-widgets/controls",
            "children": [
              "IPY_MODEL_ccdf3a888f5040a3b74b2fef5636b68f",
              "IPY_MODEL_b18dcb6f1c50427fa975205a81b7d774"
            ]
          }
        },
        "2415f152617347b686e7744466336078": {
          "model_module": "@jupyter-widgets/base",
          "model_name": "LayoutModel",
          "model_module_version": "1.2.0",
          "state": {
            "_view_name": "LayoutView",
            "grid_template_rows": null,
            "right": null,
            "justify_content": null,
            "_view_module": "@jupyter-widgets/base",
            "overflow": null,
            "_model_module_version": "1.2.0",
            "_view_count": null,
            "flex_flow": null,
            "width": null,
            "min_width": null,
            "border": null,
            "align_items": null,
            "bottom": null,
            "_model_module": "@jupyter-widgets/base",
            "top": null,
            "grid_column": null,
            "overflow_y": null,
            "overflow_x": null,
            "grid_auto_flow": null,
            "grid_area": null,
            "grid_template_columns": null,
            "flex": null,
            "_model_name": "LayoutModel",
            "justify_items": null,
            "grid_row": null,
            "max_height": null,
            "align_content": null,
            "visibility": null,
            "align_self": null,
            "height": null,
            "min_height": null,
            "padding": null,
            "grid_auto_rows": null,
            "grid_gap": null,
            "max_width": null,
            "order": null,
            "_view_module_version": "1.2.0",
            "grid_template_areas": null,
            "object_position": null,
            "object_fit": null,
            "grid_auto_columns": null,
            "margin": null,
            "display": null,
            "left": null
          }
        },
        "ccdf3a888f5040a3b74b2fef5636b68f": {
          "model_module": "@jupyter-widgets/controls",
          "model_name": "FloatProgressModel",
          "model_module_version": "1.5.0",
          "state": {
            "_view_name": "ProgressView",
            "style": "IPY_MODEL_5434ff6fcc3c4b81b4b863cb2d33e487",
            "_dom_classes": [],
            "description": "Downloading: 100%",
            "_model_name": "FloatProgressModel",
            "bar_style": "success",
            "max": 456318,
            "_view_module": "@jupyter-widgets/controls",
            "_model_module_version": "1.5.0",
            "value": 456318,
            "_view_count": null,
            "_view_module_version": "1.5.0",
            "orientation": "horizontal",
            "min": 0,
            "description_tooltip": null,
            "_model_module": "@jupyter-widgets/controls",
            "layout": "IPY_MODEL_b0720eb74b064abea9a3b51787f2b010"
          }
        },
        "b18dcb6f1c50427fa975205a81b7d774": {
          "model_module": "@jupyter-widgets/controls",
          "model_name": "HTMLModel",
          "model_module_version": "1.5.0",
          "state": {
            "_view_name": "HTMLView",
            "style": "IPY_MODEL_310c9b68984545e2a18e39526ef8113c",
            "_dom_classes": [],
            "description": "",
            "_model_name": "HTMLModel",
            "placeholder": "​",
            "_view_module": "@jupyter-widgets/controls",
            "_model_module_version": "1.5.0",
            "value": " 456k/456k [00:00&lt;00:00, 642kB/s]",
            "_view_count": null,
            "_view_module_version": "1.5.0",
            "description_tooltip": null,
            "_model_module": "@jupyter-widgets/controls",
            "layout": "IPY_MODEL_ddf611fabfe04370b526e691df43e24f"
          }
        },
        "5434ff6fcc3c4b81b4b863cb2d33e487": {
          "model_module": "@jupyter-widgets/controls",
          "model_name": "ProgressStyleModel",
          "model_module_version": "1.5.0",
          "state": {
            "_view_name": "StyleView",
            "_model_name": "ProgressStyleModel",
            "description_width": "initial",
            "_view_module": "@jupyter-widgets/base",
            "_model_module_version": "1.5.0",
            "_view_count": null,
            "_view_module_version": "1.2.0",
            "bar_color": null,
            "_model_module": "@jupyter-widgets/controls"
          }
        },
        "b0720eb74b064abea9a3b51787f2b010": {
          "model_module": "@jupyter-widgets/base",
          "model_name": "LayoutModel",
          "model_module_version": "1.2.0",
          "state": {
            "_view_name": "LayoutView",
            "grid_template_rows": null,
            "right": null,
            "justify_content": null,
            "_view_module": "@jupyter-widgets/base",
            "overflow": null,
            "_model_module_version": "1.2.0",
            "_view_count": null,
            "flex_flow": null,
            "width": null,
            "min_width": null,
            "border": null,
            "align_items": null,
            "bottom": null,
            "_model_module": "@jupyter-widgets/base",
            "top": null,
            "grid_column": null,
            "overflow_y": null,
            "overflow_x": null,
            "grid_auto_flow": null,
            "grid_area": null,
            "grid_template_columns": null,
            "flex": null,
            "_model_name": "LayoutModel",
            "justify_items": null,
            "grid_row": null,
            "max_height": null,
            "align_content": null,
            "visibility": null,
            "align_self": null,
            "height": null,
            "min_height": null,
            "padding": null,
            "grid_auto_rows": null,
            "grid_gap": null,
            "max_width": null,
            "order": null,
            "_view_module_version": "1.2.0",
            "grid_template_areas": null,
            "object_position": null,
            "object_fit": null,
            "grid_auto_columns": null,
            "margin": null,
            "display": null,
            "left": null
          }
        },
        "310c9b68984545e2a18e39526ef8113c": {
          "model_module": "@jupyter-widgets/controls",
          "model_name": "DescriptionStyleModel",
          "model_module_version": "1.5.0",
          "state": {
            "_view_name": "StyleView",
            "_model_name": "DescriptionStyleModel",
            "description_width": "",
            "_view_module": "@jupyter-widgets/base",
            "_model_module_version": "1.5.0",
            "_view_count": null,
            "_view_module_version": "1.2.0",
            "_model_module": "@jupyter-widgets/controls"
          }
        },
        "ddf611fabfe04370b526e691df43e24f": {
          "model_module": "@jupyter-widgets/base",
          "model_name": "LayoutModel",
          "model_module_version": "1.2.0",
          "state": {
            "_view_name": "LayoutView",
            "grid_template_rows": null,
            "right": null,
            "justify_content": null,
            "_view_module": "@jupyter-widgets/base",
            "overflow": null,
            "_model_module_version": "1.2.0",
            "_view_count": null,
            "flex_flow": null,
            "width": null,
            "min_width": null,
            "border": null,
            "align_items": null,
            "bottom": null,
            "_model_module": "@jupyter-widgets/base",
            "top": null,
            "grid_column": null,
            "overflow_y": null,
            "overflow_x": null,
            "grid_auto_flow": null,
            "grid_area": null,
            "grid_template_columns": null,
            "flex": null,
            "_model_name": "LayoutModel",
            "justify_items": null,
            "grid_row": null,
            "max_height": null,
            "align_content": null,
            "visibility": null,
            "align_self": null,
            "height": null,
            "min_height": null,
            "padding": null,
            "grid_auto_rows": null,
            "grid_gap": null,
            "max_width": null,
            "order": null,
            "_view_module_version": "1.2.0",
            "grid_template_areas": null,
            "object_position": null,
            "object_fit": null,
            "grid_auto_columns": null,
            "margin": null,
            "display": null,
            "left": null
          }
        },
        "02d3a2cee5a548338c8237ac5cc193c9": {
          "model_module": "@jupyter-widgets/controls",
          "model_name": "HBoxModel",
          "model_module_version": "1.5.0",
          "state": {
            "_view_name": "HBoxView",
            "_dom_classes": [],
            "_model_name": "HBoxModel",
            "_view_module": "@jupyter-widgets/controls",
            "_model_module_version": "1.5.0",
            "_view_count": null,
            "_view_module_version": "1.5.0",
            "box_style": "",
            "layout": "IPY_MODEL_99845ed2786e40c0b47a08b387b59349",
            "_model_module": "@jupyter-widgets/controls",
            "children": [
              "IPY_MODEL_31c9c01eaf4945b6ab121ffd8bf04140",
              "IPY_MODEL_afe3a366a6294f27b5e345d41f5810f5"
            ]
          }
        },
        "99845ed2786e40c0b47a08b387b59349": {
          "model_module": "@jupyter-widgets/base",
          "model_name": "LayoutModel",
          "model_module_version": "1.2.0",
          "state": {
            "_view_name": "LayoutView",
            "grid_template_rows": null,
            "right": null,
            "justify_content": null,
            "_view_module": "@jupyter-widgets/base",
            "overflow": null,
            "_model_module_version": "1.2.0",
            "_view_count": null,
            "flex_flow": null,
            "width": null,
            "min_width": null,
            "border": null,
            "align_items": null,
            "bottom": null,
            "_model_module": "@jupyter-widgets/base",
            "top": null,
            "grid_column": null,
            "overflow_y": null,
            "overflow_x": null,
            "grid_auto_flow": null,
            "grid_area": null,
            "grid_template_columns": null,
            "flex": null,
            "_model_name": "LayoutModel",
            "justify_items": null,
            "grid_row": null,
            "max_height": null,
            "align_content": null,
            "visibility": null,
            "align_self": null,
            "height": null,
            "min_height": null,
            "padding": null,
            "grid_auto_rows": null,
            "grid_gap": null,
            "max_width": null,
            "order": null,
            "_view_module_version": "1.2.0",
            "grid_template_areas": null,
            "object_position": null,
            "object_fit": null,
            "grid_auto_columns": null,
            "margin": null,
            "display": null,
            "left": null
          }
        },
        "31c9c01eaf4945b6ab121ffd8bf04140": {
          "model_module": "@jupyter-widgets/controls",
          "model_name": "FloatProgressModel",
          "model_module_version": "1.5.0",
          "state": {
            "_view_name": "ProgressView",
            "style": "IPY_MODEL_c1149903837446f6a680883713a01f50",
            "_dom_classes": [],
            "description": "Downloading: 100%",
            "_model_name": "FloatProgressModel",
            "bar_style": "success",
            "max": 1355256,
            "_view_module": "@jupyter-widgets/controls",
            "_model_module_version": "1.5.0",
            "value": 1355256,
            "_view_count": null,
            "_view_module_version": "1.5.0",
            "orientation": "horizontal",
            "min": 0,
            "description_tooltip": null,
            "_model_module": "@jupyter-widgets/controls",
            "layout": "IPY_MODEL_a1795da5b9044da18993902a79c6ed86"
          }
        },
        "afe3a366a6294f27b5e345d41f5810f5": {
          "model_module": "@jupyter-widgets/controls",
          "model_name": "HTMLModel",
          "model_module_version": "1.5.0",
          "state": {
            "_view_name": "HTMLView",
            "style": "IPY_MODEL_b6363c9182c14724ba4680e32e1abc09",
            "_dom_classes": [],
            "description": "",
            "_model_name": "HTMLModel",
            "placeholder": "​",
            "_view_module": "@jupyter-widgets/controls",
            "_model_module_version": "1.5.0",
            "value": " 1.36M/1.36M [00:00&lt;00:00, 2.58MB/s]",
            "_view_count": null,
            "_view_module_version": "1.5.0",
            "description_tooltip": null,
            "_model_module": "@jupyter-widgets/controls",
            "layout": "IPY_MODEL_b10b15789e674eaa8a4e57d371b51c46"
          }
        },
        "c1149903837446f6a680883713a01f50": {
          "model_module": "@jupyter-widgets/controls",
          "model_name": "ProgressStyleModel",
          "model_module_version": "1.5.0",
          "state": {
            "_view_name": "StyleView",
            "_model_name": "ProgressStyleModel",
            "description_width": "initial",
            "_view_module": "@jupyter-widgets/base",
            "_model_module_version": "1.5.0",
            "_view_count": null,
            "_view_module_version": "1.2.0",
            "bar_color": null,
            "_model_module": "@jupyter-widgets/controls"
          }
        },
        "a1795da5b9044da18993902a79c6ed86": {
          "model_module": "@jupyter-widgets/base",
          "model_name": "LayoutModel",
          "model_module_version": "1.2.0",
          "state": {
            "_view_name": "LayoutView",
            "grid_template_rows": null,
            "right": null,
            "justify_content": null,
            "_view_module": "@jupyter-widgets/base",
            "overflow": null,
            "_model_module_version": "1.2.0",
            "_view_count": null,
            "flex_flow": null,
            "width": null,
            "min_width": null,
            "border": null,
            "align_items": null,
            "bottom": null,
            "_model_module": "@jupyter-widgets/base",
            "top": null,
            "grid_column": null,
            "overflow_y": null,
            "overflow_x": null,
            "grid_auto_flow": null,
            "grid_area": null,
            "grid_template_columns": null,
            "flex": null,
            "_model_name": "LayoutModel",
            "justify_items": null,
            "grid_row": null,
            "max_height": null,
            "align_content": null,
            "visibility": null,
            "align_self": null,
            "height": null,
            "min_height": null,
            "padding": null,
            "grid_auto_rows": null,
            "grid_gap": null,
            "max_width": null,
            "order": null,
            "_view_module_version": "1.2.0",
            "grid_template_areas": null,
            "object_position": null,
            "object_fit": null,
            "grid_auto_columns": null,
            "margin": null,
            "display": null,
            "left": null
          }
        },
        "b6363c9182c14724ba4680e32e1abc09": {
          "model_module": "@jupyter-widgets/controls",
          "model_name": "DescriptionStyleModel",
          "model_module_version": "1.5.0",
          "state": {
            "_view_name": "StyleView",
            "_model_name": "DescriptionStyleModel",
            "description_width": "",
            "_view_module": "@jupyter-widgets/base",
            "_model_module_version": "1.5.0",
            "_view_count": null,
            "_view_module_version": "1.2.0",
            "_model_module": "@jupyter-widgets/controls"
          }
        },
        "b10b15789e674eaa8a4e57d371b51c46": {
          "model_module": "@jupyter-widgets/base",
          "model_name": "LayoutModel",
          "model_module_version": "1.2.0",
          "state": {
            "_view_name": "LayoutView",
            "grid_template_rows": null,
            "right": null,
            "justify_content": null,
            "_view_module": "@jupyter-widgets/base",
            "overflow": null,
            "_model_module_version": "1.2.0",
            "_view_count": null,
            "flex_flow": null,
            "width": null,
            "min_width": null,
            "border": null,
            "align_items": null,
            "bottom": null,
            "_model_module": "@jupyter-widgets/base",
            "top": null,
            "grid_column": null,
            "overflow_y": null,
            "overflow_x": null,
            "grid_auto_flow": null,
            "grid_area": null,
            "grid_template_columns": null,
            "flex": null,
            "_model_name": "LayoutModel",
            "justify_items": null,
            "grid_row": null,
            "max_height": null,
            "align_content": null,
            "visibility": null,
            "align_self": null,
            "height": null,
            "min_height": null,
            "padding": null,
            "grid_auto_rows": null,
            "grid_gap": null,
            "max_width": null,
            "order": null,
            "_view_module_version": "1.2.0",
            "grid_template_areas": null,
            "object_position": null,
            "object_fit": null,
            "grid_auto_columns": null,
            "margin": null,
            "display": null,
            "left": null
          }
        },
        "2635db886a4341a19ad112bce2ef2dff": {
          "model_module": "@jupyter-widgets/controls",
          "model_name": "HBoxModel",
          "model_module_version": "1.5.0",
          "state": {
            "_view_name": "HBoxView",
            "_dom_classes": [],
            "_model_name": "HBoxModel",
            "_view_module": "@jupyter-widgets/controls",
            "_model_module_version": "1.5.0",
            "_view_count": null,
            "_view_module_version": "1.5.0",
            "box_style": "",
            "layout": "IPY_MODEL_c68532cd24cb4379b5eff64ca7b643fd",
            "_model_module": "@jupyter-widgets/controls",
            "children": [
              "IPY_MODEL_02eb589710e54bfc834c5f5611e337c3",
              "IPY_MODEL_4611ff2370c04a909698be00a349d6c5"
            ]
          }
        },
        "c68532cd24cb4379b5eff64ca7b643fd": {
          "model_module": "@jupyter-widgets/base",
          "model_name": "LayoutModel",
          "model_module_version": "1.2.0",
          "state": {
            "_view_name": "LayoutView",
            "grid_template_rows": null,
            "right": null,
            "justify_content": null,
            "_view_module": "@jupyter-widgets/base",
            "overflow": null,
            "_model_module_version": "1.2.0",
            "_view_count": null,
            "flex_flow": null,
            "width": null,
            "min_width": null,
            "border": null,
            "align_items": null,
            "bottom": null,
            "_model_module": "@jupyter-widgets/base",
            "top": null,
            "grid_column": null,
            "overflow_y": null,
            "overflow_x": null,
            "grid_auto_flow": null,
            "grid_area": null,
            "grid_template_columns": null,
            "flex": null,
            "_model_name": "LayoutModel",
            "justify_items": null,
            "grid_row": null,
            "max_height": null,
            "align_content": null,
            "visibility": null,
            "align_self": null,
            "height": null,
            "min_height": null,
            "padding": null,
            "grid_auto_rows": null,
            "grid_gap": null,
            "max_width": null,
            "order": null,
            "_view_module_version": "1.2.0",
            "grid_template_areas": null,
            "object_position": null,
            "object_fit": null,
            "grid_auto_columns": null,
            "margin": null,
            "display": null,
            "left": null
          }
        },
        "02eb589710e54bfc834c5f5611e337c3": {
          "model_module": "@jupyter-widgets/controls",
          "model_name": "FloatProgressModel",
          "model_module_version": "1.5.0",
          "state": {
            "_view_name": "ProgressView",
            "style": "IPY_MODEL_ac492c5dc73d4febb9bacac8148ff085",
            "_dom_classes": [],
            "description": "Downloading: 100%",
            "_model_name": "FloatProgressModel",
            "bar_style": "success",
            "max": 665,
            "_view_module": "@jupyter-widgets/controls",
            "_model_module_version": "1.5.0",
            "value": 665,
            "_view_count": null,
            "_view_module_version": "1.5.0",
            "orientation": "horizontal",
            "min": 0,
            "description_tooltip": null,
            "_model_module": "@jupyter-widgets/controls",
            "layout": "IPY_MODEL_9b9e4b7ac1114d958de5ed5668a685ff"
          }
        },
        "4611ff2370c04a909698be00a349d6c5": {
          "model_module": "@jupyter-widgets/controls",
          "model_name": "HTMLModel",
          "model_module_version": "1.5.0",
          "state": {
            "_view_name": "HTMLView",
            "style": "IPY_MODEL_2e82834b415a4c69b40f59cb09cda010",
            "_dom_classes": [],
            "description": "",
            "_model_name": "HTMLModel",
            "placeholder": "​",
            "_view_module": "@jupyter-widgets/controls",
            "_model_module_version": "1.5.0",
            "value": " 665/665 [00:00&lt;00:00, 8.51kB/s]",
            "_view_count": null,
            "_view_module_version": "1.5.0",
            "description_tooltip": null,
            "_model_module": "@jupyter-widgets/controls",
            "layout": "IPY_MODEL_b30e7bf3229e4b84b24353243640f1cc"
          }
        },
        "ac492c5dc73d4febb9bacac8148ff085": {
          "model_module": "@jupyter-widgets/controls",
          "model_name": "ProgressStyleModel",
          "model_module_version": "1.5.0",
          "state": {
            "_view_name": "StyleView",
            "_model_name": "ProgressStyleModel",
            "description_width": "initial",
            "_view_module": "@jupyter-widgets/base",
            "_model_module_version": "1.5.0",
            "_view_count": null,
            "_view_module_version": "1.2.0",
            "bar_color": null,
            "_model_module": "@jupyter-widgets/controls"
          }
        },
        "9b9e4b7ac1114d958de5ed5668a685ff": {
          "model_module": "@jupyter-widgets/base",
          "model_name": "LayoutModel",
          "model_module_version": "1.2.0",
          "state": {
            "_view_name": "LayoutView",
            "grid_template_rows": null,
            "right": null,
            "justify_content": null,
            "_view_module": "@jupyter-widgets/base",
            "overflow": null,
            "_model_module_version": "1.2.0",
            "_view_count": null,
            "flex_flow": null,
            "width": null,
            "min_width": null,
            "border": null,
            "align_items": null,
            "bottom": null,
            "_model_module": "@jupyter-widgets/base",
            "top": null,
            "grid_column": null,
            "overflow_y": null,
            "overflow_x": null,
            "grid_auto_flow": null,
            "grid_area": null,
            "grid_template_columns": null,
            "flex": null,
            "_model_name": "LayoutModel",
            "justify_items": null,
            "grid_row": null,
            "max_height": null,
            "align_content": null,
            "visibility": null,
            "align_self": null,
            "height": null,
            "min_height": null,
            "padding": null,
            "grid_auto_rows": null,
            "grid_gap": null,
            "max_width": null,
            "order": null,
            "_view_module_version": "1.2.0",
            "grid_template_areas": null,
            "object_position": null,
            "object_fit": null,
            "grid_auto_columns": null,
            "margin": null,
            "display": null,
            "left": null
          }
        },
        "2e82834b415a4c69b40f59cb09cda010": {
          "model_module": "@jupyter-widgets/controls",
          "model_name": "DescriptionStyleModel",
          "model_module_version": "1.5.0",
          "state": {
            "_view_name": "StyleView",
            "_model_name": "DescriptionStyleModel",
            "description_width": "",
            "_view_module": "@jupyter-widgets/base",
            "_model_module_version": "1.5.0",
            "_view_count": null,
            "_view_module_version": "1.2.0",
            "_model_module": "@jupyter-widgets/controls"
          }
        },
        "b30e7bf3229e4b84b24353243640f1cc": {
          "model_module": "@jupyter-widgets/base",
          "model_name": "LayoutModel",
          "model_module_version": "1.2.0",
          "state": {
            "_view_name": "LayoutView",
            "grid_template_rows": null,
            "right": null,
            "justify_content": null,
            "_view_module": "@jupyter-widgets/base",
            "overflow": null,
            "_model_module_version": "1.2.0",
            "_view_count": null,
            "flex_flow": null,
            "width": null,
            "min_width": null,
            "border": null,
            "align_items": null,
            "bottom": null,
            "_model_module": "@jupyter-widgets/base",
            "top": null,
            "grid_column": null,
            "overflow_y": null,
            "overflow_x": null,
            "grid_auto_flow": null,
            "grid_area": null,
            "grid_template_columns": null,
            "flex": null,
            "_model_name": "LayoutModel",
            "justify_items": null,
            "grid_row": null,
            "max_height": null,
            "align_content": null,
            "visibility": null,
            "align_self": null,
            "height": null,
            "min_height": null,
            "padding": null,
            "grid_auto_rows": null,
            "grid_gap": null,
            "max_width": null,
            "order": null,
            "_view_module_version": "1.2.0",
            "grid_template_areas": null,
            "object_position": null,
            "object_fit": null,
            "grid_auto_columns": null,
            "margin": null,
            "display": null,
            "left": null
          }
        }
      }
    }
  },
  "cells": [
    {
      "cell_type": "markdown",
      "metadata": {
        "id": "view-in-github",
        "colab_type": "text"
      },
      "source": [
        "<a href=\"https://colab.research.google.com/github/mohaktnbt/Supervised-Learning/blob/main/Tokenze_Text_dataset_for_GPT_3_Fine_Tuning.ipynb\" target=\"_parent\"><img src=\"https://colab.research.google.com/assets/colab-badge.svg\" alt=\"Open In Colab\"/></a>"
      ]
    },
    {
      "cell_type": "markdown",
      "metadata": {
        "id": "dGymKTQwMc-5"
      },
      "source": [
        "**Purpose**\n",
        "\n",
        "Divide a text dataset,  for example book into chunks of specified token size to feed into GPT-3 Fine-tuning or Questions Answering feature without breaking sentences mid-way.\n",
        "\n",
        "**Author**\n",
        "\n",
        "Harish Garg\n",
        "\n",
        "Contact: harish@harishgarg.com\n",
        "\n",
        "For more GPT-3 related Code and Content, visit - https://harishgarg.com\n",
        "\n",
        "If you use this, I would like to hear feedback and ideas for improvements or even questions if you face any questions. Get in touch.\n"
      ]
    },
    {
      "cell_type": "markdown",
      "metadata": {
        "id": "PZ_14JnDNRpt"
      },
      "source": [
        "Install Hugginface's Transfomers library to help with tokenization"
      ]
    },
    {
      "cell_type": "code",
      "metadata": {
        "colab": {
          "base_uri": "https://localhost:8080/"
        },
        "id": "qckOJJkfzb6V",
        "outputId": "4de5b5cb-f77b-4a4d-ea1d-50835e2e768d"
      },
      "source": [
        "! pip install transformers"
      ],
      "execution_count": null,
      "outputs": [
        {
          "output_type": "stream",
          "text": [
            "Collecting transformers\n",
            "  Downloading transformers-4.9.1-py3-none-any.whl (2.6 MB)\n",
            "\u001b[K     |████████████████████████████████| 2.6 MB 3.6 MB/s \n",
            "\u001b[?25hRequirement already satisfied: filelock in /usr/local/lib/python3.7/dist-packages (from transformers) (3.0.12)\n",
            "Collecting pyyaml>=5.1\n",
            "  Downloading PyYAML-5.4.1-cp37-cp37m-manylinux1_x86_64.whl (636 kB)\n",
            "\u001b[K     |████████████████████████████████| 636 kB 49.2 MB/s \n",
            "\u001b[?25hRequirement already satisfied: regex!=2019.12.17 in /usr/local/lib/python3.7/dist-packages (from transformers) (2019.12.20)\n",
            "Collecting tokenizers<0.11,>=0.10.1\n",
            "  Downloading tokenizers-0.10.3-cp37-cp37m-manylinux_2_5_x86_64.manylinux1_x86_64.manylinux_2_12_x86_64.manylinux2010_x86_64.whl (3.3 MB)\n",
            "\u001b[K     |████████████████████████████████| 3.3 MB 34.3 MB/s \n",
            "\u001b[?25hRequirement already satisfied: tqdm>=4.27 in /usr/local/lib/python3.7/dist-packages (from transformers) (4.41.1)\n",
            "Requirement already satisfied: packaging in /usr/local/lib/python3.7/dist-packages (from transformers) (21.0)\n",
            "Requirement already satisfied: numpy>=1.17 in /usr/local/lib/python3.7/dist-packages (from transformers) (1.19.5)\n",
            "Collecting huggingface-hub==0.0.12\n",
            "  Downloading huggingface_hub-0.0.12-py3-none-any.whl (37 kB)\n",
            "Requirement already satisfied: requests in /usr/local/lib/python3.7/dist-packages (from transformers) (2.23.0)\n",
            "Requirement already satisfied: importlib-metadata in /usr/local/lib/python3.7/dist-packages (from transformers) (4.6.1)\n",
            "Collecting sacremoses\n",
            "  Downloading sacremoses-0.0.45-py3-none-any.whl (895 kB)\n",
            "\u001b[K     |████████████████████████████████| 895 kB 50.0 MB/s \n",
            "\u001b[?25hRequirement already satisfied: typing-extensions in /usr/local/lib/python3.7/dist-packages (from huggingface-hub==0.0.12->transformers) (3.7.4.3)\n",
            "Requirement already satisfied: pyparsing>=2.0.2 in /usr/local/lib/python3.7/dist-packages (from packaging->transformers) (2.4.7)\n",
            "Requirement already satisfied: zipp>=0.5 in /usr/local/lib/python3.7/dist-packages (from importlib-metadata->transformers) (3.5.0)\n",
            "Requirement already satisfied: certifi>=2017.4.17 in /usr/local/lib/python3.7/dist-packages (from requests->transformers) (2021.5.30)\n",
            "Requirement already satisfied: idna<3,>=2.5 in /usr/local/lib/python3.7/dist-packages (from requests->transformers) (2.10)\n",
            "Requirement already satisfied: urllib3!=1.25.0,!=1.25.1,<1.26,>=1.21.1 in /usr/local/lib/python3.7/dist-packages (from requests->transformers) (1.24.3)\n",
            "Requirement already satisfied: chardet<4,>=3.0.2 in /usr/local/lib/python3.7/dist-packages (from requests->transformers) (3.0.4)\n",
            "Requirement already satisfied: joblib in /usr/local/lib/python3.7/dist-packages (from sacremoses->transformers) (1.0.1)\n",
            "Requirement already satisfied: click in /usr/local/lib/python3.7/dist-packages (from sacremoses->transformers) (7.1.2)\n",
            "Requirement already satisfied: six in /usr/local/lib/python3.7/dist-packages (from sacremoses->transformers) (1.15.0)\n",
            "Installing collected packages: tokenizers, sacremoses, pyyaml, huggingface-hub, transformers\n",
            "  Attempting uninstall: pyyaml\n",
            "    Found existing installation: PyYAML 3.13\n",
            "    Uninstalling PyYAML-3.13:\n",
            "      Successfully uninstalled PyYAML-3.13\n",
            "Successfully installed huggingface-hub-0.0.12 pyyaml-5.4.1 sacremoses-0.0.45 tokenizers-0.10.3 transformers-4.9.1\n"
          ],
          "name": "stdout"
        }
      ]
    },
    {
      "cell_type": "markdown",
      "metadata": {
        "id": "DaYk_UpnNe5t"
      },
      "source": [
        "Below Code snippet does these things in order..\n",
        "- imports Toeknizer for GPT-2 and iniatilizes it from the training model. This involves downloading the pretrained model data from the HuggingFace Model Hub\n",
        "- imports NTLK library to help with dividing the text into sentences without breaking them\n",
        "- imports urllb to read data from the web"
      ]
    },
    {
      "cell_type": "code",
      "metadata": {
        "colab": {
          "base_uri": "https://localhost:8080/",
          "height": 247,
          "referenced_widgets": [
            "36ab9bcd55c8416e9559cda587601d3a",
            "c5e822d965484d5c83eee2b75d145488",
            "88db0f91647c407fa410a405b6c05225",
            "77baa04751bc407b85cc093c0833c26e",
            "dee5a99f921147068c81788c2735ad5f",
            "e0f7c41d06ab41ac8657e7656ea16983",
            "91be7396942d45e6bdba44d87d1f66d2",
            "649b28614fb74feb912a66fef8be2693",
            "1b1508e1b9db499e9b504d2885976104",
            "2415f152617347b686e7744466336078",
            "ccdf3a888f5040a3b74b2fef5636b68f",
            "b18dcb6f1c50427fa975205a81b7d774",
            "5434ff6fcc3c4b81b4b863cb2d33e487",
            "b0720eb74b064abea9a3b51787f2b010",
            "310c9b68984545e2a18e39526ef8113c",
            "ddf611fabfe04370b526e691df43e24f",
            "02d3a2cee5a548338c8237ac5cc193c9",
            "99845ed2786e40c0b47a08b387b59349",
            "31c9c01eaf4945b6ab121ffd8bf04140",
            "afe3a366a6294f27b5e345d41f5810f5",
            "c1149903837446f6a680883713a01f50",
            "a1795da5b9044da18993902a79c6ed86",
            "b6363c9182c14724ba4680e32e1abc09",
            "b10b15789e674eaa8a4e57d371b51c46",
            "2635db886a4341a19ad112bce2ef2dff",
            "c68532cd24cb4379b5eff64ca7b643fd",
            "02eb589710e54bfc834c5f5611e337c3",
            "4611ff2370c04a909698be00a349d6c5",
            "ac492c5dc73d4febb9bacac8148ff085",
            "9b9e4b7ac1114d958de5ed5668a685ff",
            "2e82834b415a4c69b40f59cb09cda010",
            "b30e7bf3229e4b84b24353243640f1cc"
          ]
        },
        "id": "_MTzfAmo0Jrn",
        "outputId": "6677e56d-4e44-43ac-be20-c804ae69041c"
      },
      "source": [
        "from transformers import GPT2Tokenizer\n",
        "tokenizer = GPT2Tokenizer.from_pretrained(\"gpt2\")\n",
        "import nltk\n",
        "nltk.download('punkt')\n",
        "from urllib import request"
      ],
      "execution_count": null,
      "outputs": [
        {
          "output_type": "display_data",
          "data": {
            "application/vnd.jupyter.widget-view+json": {
              "model_id": "36ab9bcd55c8416e9559cda587601d3a",
              "version_minor": 0,
              "version_major": 2
            },
            "text/plain": [
              "HBox(children=(FloatProgress(value=0.0, description='Downloading', max=1042301.0, style=ProgressStyle(descript…"
            ]
          },
          "metadata": {
            "tags": []
          }
        },
        {
          "output_type": "stream",
          "text": [
            "\n"
          ],
          "name": "stdout"
        },
        {
          "output_type": "display_data",
          "data": {
            "application/vnd.jupyter.widget-view+json": {
              "model_id": "1b1508e1b9db499e9b504d2885976104",
              "version_minor": 0,
              "version_major": 2
            },
            "text/plain": [
              "HBox(children=(FloatProgress(value=0.0, description='Downloading', max=456318.0, style=ProgressStyle(descripti…"
            ]
          },
          "metadata": {
            "tags": []
          }
        },
        {
          "output_type": "stream",
          "text": [
            "\n"
          ],
          "name": "stdout"
        },
        {
          "output_type": "display_data",
          "data": {
            "application/vnd.jupyter.widget-view+json": {
              "model_id": "02d3a2cee5a548338c8237ac5cc193c9",
              "version_minor": 0,
              "version_major": 2
            },
            "text/plain": [
              "HBox(children=(FloatProgress(value=0.0, description='Downloading', max=1355256.0, style=ProgressStyle(descript…"
            ]
          },
          "metadata": {
            "tags": []
          }
        },
        {
          "output_type": "stream",
          "text": [
            "\n"
          ],
          "name": "stdout"
        },
        {
          "output_type": "display_data",
          "data": {
            "application/vnd.jupyter.widget-view+json": {
              "model_id": "2635db886a4341a19ad112bce2ef2dff",
              "version_minor": 0,
              "version_major": 2
            },
            "text/plain": [
              "HBox(children=(FloatProgress(value=0.0, description='Downloading', max=665.0, style=ProgressStyle(description_…"
            ]
          },
          "metadata": {
            "tags": []
          }
        },
        {
          "output_type": "stream",
          "text": [
            "\n",
            "[nltk_data] Downloading package punkt to /root/nltk_data...\n",
            "[nltk_data]   Unzipping tokenizers/punkt.zip.\n"
          ],
          "name": "stdout"
        }
      ]
    },
    {
      "cell_type": "markdown",
      "metadata": {
        "id": "qaOs1h62H1QM"
      },
      "source": [
        "The following code cell downloads a book from the gutenberg project and reads the text in a variable. You should replace the URL for your dataset. This is tested on ASCII dataset and nothing else as of now"
      ]
    },
    {
      "cell_type": "code",
      "metadata": {
        "id": "IigB4zRqIv92"
      },
      "source": [
        "url = \"http://www.gutenberg.org/files/2554/2554-0.txt\"\n",
        "response = request.urlopen(url)\n",
        "raw = response.read().decode('utf8')"
      ],
      "execution_count": null,
      "outputs": []
    },
    {
      "cell_type": "markdown",
      "metadata": {
        "id": "uFyhACA8OsmH"
      },
      "source": [
        "Here we are using sentence tokenizer from NLTK to create a list of sentences from the above read text"
      ]
    },
    {
      "cell_type": "code",
      "metadata": {
        "id": "AB1iLwy5x3uL"
      },
      "source": [
        "sentence_list = nltk.tokenize.sent_tokenize(raw)"
      ],
      "execution_count": null,
      "outputs": []
    },
    {
      "cell_type": "code",
      "metadata": {
        "colab": {
          "base_uri": "https://localhost:8080/",
          "height": 52
        },
        "id": "TgsAefChyMOX",
        "outputId": "428a2b5f-dc6c-4f5c-ee04-a64c61ed7acb"
      },
      "source": [
        "sentence_list[0]"
      ],
      "execution_count": null,
      "outputs": [
        {
          "output_type": "execute_result",
          "data": {
            "application/vnd.google.colaboratory.intrinsic+json": {
              "type": "string"
            },
            "text/plain": [
              "'\\ufeffThe Project Gutenberg EBook of Crime and Punishment, by Fyodor Dostoevsky\\r\\n\\r\\nThis eBook is for the use of anyone anywhere at no cost and with\\r\\nalmost no restrictions whatsoever.'"
            ]
          },
          "metadata": {
            "tags": []
          },
          "execution_count": 5
        }
      ]
    },
    {
      "cell_type": "markdown",
      "metadata": {
        "id": "X4v3yN8kPbk6"
      },
      "source": [
        "Below we are taking the tokenized sentence list from above and joining the sentences to create individual records of token length of approx ~ 1900 tokens, give and take few tokens. Final list of chunks are stored in the variable `joined_senences`"
      ]
    },
    {
      "cell_type": "code",
      "metadata": {
        "id": "aswIUvExFV_B",
        "colab": {
          "base_uri": "https://localhost:8080/"
        },
        "outputId": "4726780c-9067-4ece-9364-9a894ff48961"
      },
      "source": [
        "joined_sentences = []\n",
        "def join_strings(strings):\n",
        "    joined_strings = \"\"\n",
        "    for string in strings:\n",
        "        if len(tokenizer(joined_strings)['input_ids']) < 1900:\n",
        "            joined_strings = joined_strings + \" \" + string\n",
        "        else:\n",
        "            joined_sentences.append(joined_strings)\n",
        "            joined_strings = string\n",
        "    joined_sentences.append(joined_strings)\n",
        "join_strings(sentence_list)"
      ],
      "execution_count": null,
      "outputs": [
        {
          "output_type": "stream",
          "text": [
            "Token indices sequence length is longer than the specified maximum sequence length for this model (1029 > 1024). Running this sequence through the model will result in indexing errors\n"
          ],
          "name": "stderr"
        }
      ]
    },
    {
      "cell_type": "markdown",
      "metadata": {
        "id": "2TXkeb3EQhg8"
      },
      "source": [
        "Verify"
      ]
    },
    {
      "cell_type": "code",
      "metadata": {
        "colab": {
          "base_uri": "https://localhost:8080/",
          "height": 137
        },
        "id": "FK5auL6RQmXF",
        "outputId": "e1338e80-0248-418b-a212-6aaa9bcde628"
      },
      "source": [
        "joined_sentences[2]"
      ],
      "execution_count": null,
      "outputs": [
        {
          "output_type": "execute_result",
          "data": {
            "application/vnd.google.colaboratory.intrinsic+json": {
              "type": "string"
            },
            "text/plain": [
              "'The old woman coughed and groaned at every\\r\\ninstant. The young man must have looked at her with a rather peculiar\\r\\nexpression, for a gleam of mistrust came into her eyes again. “Raskolnikov, a student, I came here a month ago,” the young man made\\r\\nhaste to mutter, with a half bow, remembering that he ought to be more\\r\\npolite. “I remember, my good sir, I remember quite well your coming here,” the\\r\\nold woman said distinctly, still keeping her inquiring eyes on his face. “And here... I am again on the same errand,” Raskolnikov continued, a\\r\\nlittle disconcerted and surprised at the old woman’s mistrust. “Perhaps\\r\\nshe is always like that though, only I did not notice it the other\\r\\ntime,” he thought with an uneasy feeling. The old woman paused, as though hesitating; then stepped on one side,\\r\\nand pointing to the door of the room, she said, letting her visitor pass\\r\\nin front of her:\\r\\n\\r\\n“Step in, my good sir.”\\r\\n\\r\\nThe little room into which the young man walked, with yellow paper on\\r\\nthe walls, geraniums and muslin curtains in the windows, was brightly\\r\\nlighted up at that moment by the setting sun. “So the sun will shine like this _then_ too!” flashed as it were by\\r\\nchance through Raskolnikov’s mind, and with a rapid glance he scanned\\r\\neverything in the room, trying as far as possible to notice and\\r\\nremember its arrangement. But there was nothing special in the room. The\\r\\nfurniture, all very old and of yellow wood, consisted of a sofa with\\r\\na huge bent wooden back, an oval table in front of the sofa, a\\r\\ndressing-table with a looking-glass fixed on it between the windows,\\r\\nchairs along the walls and two or three half-penny prints in yellow\\r\\nframes, representing German damsels with birds in their hands--that was\\r\\nall. In the corner a light was burning before a small ikon. Everything\\r\\nwas very clean; the floor and the furniture were brightly polished;\\r\\neverything shone. “Lizaveta’s work,” thought the young man. There was not a speck of dust\\r\\nto be seen in the whole flat. “It’s in the houses of spiteful old widows that one finds such\\r\\ncleanliness,” Raskolnikov thought again, and he stole a curious glance\\r\\nat the cotton curtain over the door leading into another tiny room, in\\r\\nwhich stood the old woman’s bed and chest of drawers and into which he\\r\\nhad never looked before. These two rooms made up the whole flat. “What do you want?” the old woman said severely, coming into the room\\r\\nand, as before, standing in front of him so as to look him straight in\\r\\nthe face. “I’ve brought something to pawn here,” and he drew out of his pocket\\r\\nan old-fashioned flat silver watch, on the back of which was engraved a\\r\\nglobe; the chain was of steel. “But the time is up for your last pledge. The month was up the day\\r\\nbefore yesterday.”\\r\\n\\r\\n“I will bring you the interest for another month; wait a little.”\\r\\n\\r\\n“But that’s for me to do as I please, my good sir, to wait or to sell\\r\\nyour pledge at once.”\\r\\n\\r\\n“How much will you give me for the watch, Alyona Ivanovna?”\\r\\n\\r\\n“You come with such trifles, my good sir, it’s scarcely worth anything. I gave you two roubles last time for your ring and one could buy it\\r\\nquite new at a jeweler’s for a rouble and a half.”\\r\\n\\r\\n“Give me four roubles for it, I shall redeem it, it was my father’s. I\\r\\nshall be getting some money soon.”\\r\\n\\r\\n“A rouble and a half, and interest in advance, if you like!”\\r\\n\\r\\n“A rouble and a half!” cried the young man. “Please yourself”--and the old woman handed him back the watch. The\\r\\nyoung man took it, and was so angry that he was on the point of going\\r\\naway; but checked himself at once, remembering that there was nowhere\\r\\nelse he could go, and that he had had another object also in coming. “Hand it over,” he said roughly. The old woman fumbled in her pocket for her keys, and disappeared behind\\r\\nthe curtain into the other room. The young man, left standing alone in\\r\\nthe middle of the room, listened inquisitively, thinking. He could hear\\r\\nher unlocking the chest of drawers. “It must be the top drawer,” he reflected. “So she carries the keys in\\r\\na pocket on the right. All in one bunch on a steel ring.... And there’s\\r\\none key there, three times as big as all the others, with deep notches;\\r\\nthat can’t be the key of the chest of drawers... then there must be some\\r\\nother chest or strong-box... that’s worth knowing. Strong-boxes always\\r\\nhave keys like that... but how degrading it all is.”\\r\\n\\r\\nThe old woman came back. “Here, sir: as we say ten copecks the rouble a month, so I must take\\r\\nfifteen copecks from a rouble and a half for the month in advance. But\\r\\nfor the two roubles I lent you before, you owe me now twenty copecks\\r\\non the same reckoning in advance. That makes thirty-five copecks\\r\\naltogether. So I must give you a rouble and fifteen copecks for the\\r\\nwatch. Here it is.”\\r\\n\\r\\n“What! only a rouble and fifteen copecks now!”\\r\\n\\r\\n“Just so.”\\r\\n\\r\\nThe young man did not dispute it and took the money. He looked at the\\r\\nold woman, and was in no hurry to get away, as though there was still\\r\\nsomething he wanted to say or to do, but he did not himself quite know\\r\\nwhat. “I may be bringing you something else in a day or two, Alyona\\r\\nIvanovna--a valuable thing--silver--a cigarette-box, as soon as I get it\\r\\nback from a friend...” he broke off in confusion. “Well, we will talk about it then, sir.”\\r\\n\\r\\n“Good-bye--are you always at home alone, your sister is not here with\\r\\nyou?” He asked her as casually as possible as he went out into the\\r\\npassage. “What business is she of yours, my good sir?”\\r\\n\\r\\n“Oh, nothing particular, I simply asked. You are too quick.... Good-day,\\r\\nAlyona Ivanovna.”\\r\\n\\r\\nRaskolnikov went out in complete confusion. This confusion became more\\r\\nand more intense. As he went down the stairs, he even stopped short, two\\r\\nor three times, as though suddenly struck by some thought. When he was\\r\\nin the street he cried out, “Oh, God, how loathsome it all is! and\\r\\ncan I, can I possibly.... No, it’s nonsense, it’s rubbish!” he added\\r\\nresolutely. “And how could such an atrocious thing come into my head? What filthy things my heart is capable of. Yes, filthy above all,\\r\\ndisgusting, loathsome, loathsome!--and for a whole month I’ve been....”\\r\\n But no words, no exclamations, could express his agitation. The feeling\\r\\nof intense repulsion, which had begun to oppress and torture his heart\\r\\nwhile he was on his way to the old woman, had by now reached such a\\r\\npitch and had taken such a definite form that he did not know what to\\r\\ndo with himself to escape from his wretchedness. He walked along the\\r\\npavement like a drunken man, regardless of the passers-by, and jostling\\r\\nagainst them, and only came to his senses when he was in the next\\r\\nstreet.'"
            ]
          },
          "metadata": {
            "tags": []
          },
          "execution_count": 7
        }
      ]
    },
    {
      "cell_type": "code",
      "metadata": {
        "colab": {
          "base_uri": "https://localhost:8080/"
        },
        "id": "ENs2Ia4v2Fl8",
        "outputId": "7705a5ff-fe71-412f-9da6-26b6697dc5b6"
      },
      "source": [
        "length = len(joined_sentences)\n",
        "for i in range(length):\n",
        "    print(len(tokenizer(joined_sentences[i])['input_ids']))\n"
      ],
      "execution_count": null,
      "outputs": [
        {
          "output_type": "stream",
          "text": [
            "1900\n",
            "1957\n",
            "1927\n",
            "1912\n",
            "1907\n",
            "2076\n",
            "1964\n",
            "1904\n",
            "1941\n",
            "1973\n",
            "1967\n",
            "1903\n",
            "1913\n",
            "1921\n",
            "1905\n",
            "1943\n",
            "1934\n",
            "1922\n",
            "1952\n",
            "1910\n",
            "1950\n",
            "1942\n",
            "1915\n",
            "1950\n",
            "1973\n",
            "1955\n",
            "1902\n",
            "1910\n",
            "1951\n",
            "1947\n",
            "1902\n",
            "1914\n",
            "1911\n",
            "1916\n",
            "1931\n",
            "1938\n",
            "1932\n",
            "1914\n",
            "1916\n",
            "1905\n",
            "1996\n",
            "1909\n",
            "1929\n",
            "1910\n",
            "1948\n",
            "1919\n",
            "1908\n",
            "1915\n",
            "1917\n",
            "1901\n",
            "1931\n",
            "1926\n",
            "1939\n",
            "1917\n",
            "1992\n",
            "1922\n",
            "1911\n",
            "1903\n",
            "1910\n",
            "1963\n",
            "1940\n",
            "1907\n",
            "1904\n",
            "1930\n",
            "1920\n",
            "1909\n",
            "1952\n",
            "1945\n",
            "1901\n",
            "1910\n",
            "1927\n",
            "1960\n",
            "1903\n",
            "1908\n",
            "1926\n",
            "1911\n",
            "1926\n",
            "1905\n",
            "1924\n",
            "1980\n",
            "1908\n",
            "1912\n",
            "1914\n",
            "1903\n",
            "1912\n",
            "1922\n",
            "1902\n",
            "1905\n",
            "1906\n",
            "1905\n",
            "1915\n",
            "1904\n",
            "1900\n",
            "1959\n",
            "1902\n",
            "1949\n",
            "1931\n",
            "1912\n",
            "1907\n",
            "1936\n",
            "1939\n",
            "1914\n",
            "1923\n",
            "1904\n",
            "1937\n",
            "1914\n",
            "1900\n",
            "1931\n",
            "1922\n",
            "1902\n",
            "1914\n",
            "1910\n",
            "1919\n",
            "1909\n",
            "1918\n",
            "1954\n",
            "1912\n",
            "1906\n",
            "1972\n",
            "1904\n",
            "1910\n",
            "1914\n",
            "1907\n",
            "1915\n",
            "1955\n",
            "1910\n",
            "1930\n",
            "1913\n",
            "1919\n",
            "1919\n",
            "1912\n",
            "1906\n",
            "1900\n",
            "1900\n",
            "1915\n",
            "1901\n",
            "1902\n",
            "1922\n",
            "1906\n",
            "1929\n",
            "1903\n",
            "1928\n",
            "1917\n",
            "1925\n",
            "1920\n",
            "1929\n",
            "1932\n",
            "1904\n",
            "1904\n",
            "1944\n",
            "1911\n",
            "1918\n",
            "1905\n",
            "1909\n",
            "1902\n",
            "1948\n",
            "1901\n",
            "1941\n",
            "1912\n",
            "1906\n",
            "1902\n",
            "1919\n",
            "1935\n",
            "1932\n",
            "1904\n",
            "1902\n",
            "1903\n",
            "1915\n",
            "1908\n",
            "1929\n",
            "1932\n",
            "1900\n",
            "1935\n",
            "1903\n",
            "956\n"
          ],
          "name": "stdout"
        }
      ]
    },
    {
      "cell_type": "markdown",
      "metadata": {
        "id": "9bss_1_7Q0UD"
      },
      "source": [
        "Print out a csv with this data"
      ]
    },
    {
      "cell_type": "code",
      "metadata": {
        "id": "_L1KOelP2zC0"
      },
      "source": [
        "import csv\n",
        "with open(\"output.csv\", \"w\") as f:\n",
        "    writer = csv.writer(f)\n",
        "    writer.writerow(joined_sentences)"
      ],
      "execution_count": null,
      "outputs": []
    }
  ]
}